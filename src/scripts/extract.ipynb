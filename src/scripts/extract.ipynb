{
 "cells": [
  {
   "cell_type": "code",
   "execution_count": 11,
   "metadata": {},
   "outputs": [],
   "source": [
    "# load api key from .env\n",
    "from dotenv import load_dotenv\n",
    "import os\n",
    "load_dotenv()\n",
    "api_key = os.environ.get('API_KEY')"
   ]
  },
  {
   "cell_type": "code",
   "execution_count": 13,
   "metadata": {},
   "outputs": [],
   "source": [
    "import fitz  # PyMuPDF\n",
    "\n",
    "def extract_text_from_pdf(pdf_path):\n",
    "    # Open the PDF file\n",
    "    document = fitz.open(pdf_path)\n",
    "\n",
    "    # Iterate through each page\n",
    "    for page_num in range(len(document)):\n",
    "        if page_num == 1:\n",
    "            # Get the page\n",
    "            page = document.load_page(page_num)\n",
    "            building_to_street = {}\n",
    "\n",
    "            # Extract text from the page\n",
    "            text = page.get_text()\n",
    "            lines = text.split('\\n')\n",
    "\n",
    "            # Print the text of the page\n",
    "            # print(f\"Page {page_num + 1}:\\n{text}\\n\")\n",
    "\n",
    "            for k, v in enumerate(lines):\n",
    "                # if line starts with number, add previous line to dictionary\n",
    "                # as the building name and the current line as the street address\n",
    "                if len(v) == 0:\n",
    "                    continue\n",
    "                if v[0].isdigit():\n",
    "                    building_name = lines[k-1]\n",
    "                    street_address = v\n",
    "                    building_to_street[building_name] = street_address\n",
    "\n",
    "    # Close the document\n",
    "    document.close()\n",
    "    return building_to_street\n",
    "\n",
    "building_to_street = extract_text_from_pdf('umkc-volker-campus-map-0823.pdf')"
   ]
  },
  {
   "cell_type": "code",
   "execution_count": 15,
   "metadata": {},
   "outputs": [],
   "source": [
    "import requests\n",
    "import json\n",
    "\n",
    "def geocode_address(api_key, address):\n",
    "    base_url = \"https://maps.googleapis.com/maps/api/geocode/json\"\n",
    "    response = requests.get(base_url, params={'address': address, 'key': api_key})\n",
    "    if response.status_code == 200:\n",
    "        data = response.json()\n",
    "        if data['status'] == 'OK':\n",
    "            location = data['results'][0]['geometry']['location']\n",
    "            return location['lat'], location['lng']\n",
    "    return None, None\n",
    "\n",
    "# Example usage\n",
    "for building_name, street_address in building_to_street.items():\n",
    "    latitude, longitude = geocode_address(api_key, street_address + ', Kansas City, MO')\n",
    "    building_to_street[building_name] = f\"{latitude}, {longitude}\"\n",
    "    # save building_name: latitude, longitude to a json file\n",
    "with open('building_to_latlong.json', 'w') as f:\n",
    "    json.dump(building_to_street, f, indent=4)"
   ]
  }
 ],
 "metadata": {
  "kernelspec": {
   "display_name": "pymupdf-venv",
   "language": "python",
   "name": "python3"
  },
  "language_info": {
   "codemirror_mode": {
    "name": "ipython",
    "version": 3
   },
   "file_extension": ".py",
   "mimetype": "text/x-python",
   "name": "python",
   "nbconvert_exporter": "python",
   "pygments_lexer": "ipython3",
   "version": "3.10.12"
  }
 },
 "nbformat": 4,
 "nbformat_minor": 2
}
